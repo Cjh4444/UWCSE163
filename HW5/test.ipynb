{
 "cells": [
  {
   "cell_type": "code",
   "execution_count": 13,
   "metadata": {},
   "outputs": [],
   "source": [
    "import geopandas as gpd\n",
    "import pandas as pd"
   ]
  },
  {
   "cell_type": "code",
   "execution_count": 20,
   "metadata": {},
   "outputs": [],
   "source": [
    "def load_in_data(washington_file: str, food_file: str) -> gpd.GeoDataFrame:\n",
    "    washington_df = gpd.read_file(washington_file)\n",
    "    food_df = pd.read_csv(food_file, index_col=0)\n",
    "\n",
    "    merged: gpd.GeoDataFrame = washington_df.merge(\n",
    "        food_df,\n",
    "        left_on=\"CTIDFP00\",\n",
    "        right_on=\"CensusTract\",\n",
    "        how=\"left\",\n",
    "    )\n",
    "\n",
    "    return merged"
   ]
  },
  {
   "cell_type": "code",
   "execution_count": 18,
   "metadata": {},
   "outputs": [],
   "source": [
    "state_data = load_in_data(\n",
    "    \"food_access/washington.json\", \"food_access/food_access.csv\"\n",
    ")"
   ]
  },
  {
   "cell_type": "code",
   "execution_count": 19,
   "metadata": {},
   "outputs": [
    {
     "data": {
      "text/plain": [
       "(1318, 30)"
      ]
     },
     "execution_count": 19,
     "metadata": {},
     "output_type": "execute_result"
    }
   ],
   "source": [
    "state_data.shape"
   ]
  }
 ],
 "metadata": {
  "kernelspec": {
   "display_name": "CS163",
   "language": "python",
   "name": "python3"
  },
  "language_info": {
   "codemirror_mode": {
    "name": "ipython",
    "version": 3
   },
   "file_extension": ".py",
   "mimetype": "text/x-python",
   "name": "python",
   "nbconvert_exporter": "python",
   "pygments_lexer": "ipython3",
   "version": "3.12.3"
  }
 },
 "nbformat": 4,
 "nbformat_minor": 2
}
